{
 "cells": [
  {
   "cell_type": "code",
   "execution_count": 1,
   "metadata": {},
   "outputs": [],
   "source": [
    "import numpy as np\n",
    "import os\n",
    "import random\n",
    "import math\n",
    "import time, collections\n",
    "\n",
    "# Para comprobaciones\n",
    "from sympy import legendre_symbol\n",
    "\n",
    "######### Ejercicio 1 #########\n",
    "\n",
    "def mcd_r(m):\n",
    "    if m[0][0]%m[1][0]!=0:\n",
    "        aux=(m[0][0]//m[1][0])\n",
    "        c=[m[0][1]-m[1][1]*aux,m[0][2]-m[1][2]*aux]\n",
    "        m[0][1:]=m[1][1:]\n",
    "        m[1][1:]=c\n",
    "        aux=m[1][0]\n",
    "        m[1][0]=m[0][0]%m[1][0]\n",
    "        m[0][0]=aux\n",
    "        m=mcd_r(m)\n",
    "    return m\n",
    "\n",
    "def mcd(a,b):\n",
    "    m=[[a,1,0],[b,0,1]]\n",
    "    m=mcd_r(m)\n",
    "    return m[1][:]\n",
    "\n",
    "\n",
    "######### Ejercicio 2 #########\n",
    "\n",
    "def modInverso(a,b):\n",
    "    # Primero comprobamos que a y b sean primos relativos\n",
    "    # es decir que el mcd de a y b sea 1\n",
    "\n",
    "    # Calculamos con la función del apartado anterior\n",
    "    # el mcd de a y b y sus coeficientes de bezout\n",
    "    m=mcd(a,b)\n",
    "\n",
    "    # Si el mcd es 1 continuamos si no, devolvemos\n",
    "    # que no tiene inverso\n",
    "    if m[0]==1:\n",
    "        return m[1]%b\n",
    "    else:\n",
    "        return \"Error: a no tiene inverso\"\n",
    "\n",
    "######### Ejercicio 3 #########\n",
    "\n",
    "# Función para el calculo de a^b modulo n\n",
    "def modPotencia(a,b,n):\n",
    "    p=1\n",
    "    while b>0:\n",
    "        r=b%2\n",
    "        if r==1:\n",
    "            p=p*a%n\n",
    "        a=(a*a)%n\n",
    "        b=(b-r)//2\n",
    "    return p\n"
   ]
  },
  {
   "cell_type": "markdown",
   "metadata": {},
   "source": [
    "No estaría mal documentar un poco mejor las funciones"
   ]
  },
  {
   "cell_type": "code",
   "execution_count": 2,
   "metadata": {},
   "outputs": [
    {
     "data": {
      "text/plain": [
       "[1, 6, -5]"
      ]
     },
     "execution_count": 2,
     "metadata": {},
     "output_type": "execute_result"
    }
   ],
   "source": [
    "mcd(11,13)"
   ]
  },
  {
   "cell_type": "code",
   "execution_count": 4,
   "metadata": {},
   "outputs": [
    {
     "data": {
      "text/plain": [
       "1"
      ]
     },
     "execution_count": 4,
     "metadata": {},
     "output_type": "execute_result"
    }
   ],
   "source": [
    "6*11-5*13"
   ]
  },
  {
   "cell_type": "code",
   "execution_count": 5,
   "metadata": {},
   "outputs": [
    {
     "data": {
      "text/plain": [
       "9"
      ]
     },
     "execution_count": 5,
     "metadata": {},
     "output_type": "execute_result"
    }
   ],
   "source": [
    "modInverso(5,11)"
   ]
  },
  {
   "cell_type": "code",
   "execution_count": 6,
   "metadata": {},
   "outputs": [
    {
     "data": {
      "text/plain": [
       "16"
      ]
     },
     "execution_count": 6,
     "metadata": {},
     "output_type": "execute_result"
    }
   ],
   "source": [
    "modPotencia(2,100,17)"
   ]
  },
  {
   "cell_type": "code",
   "execution_count": 7,
   "metadata": {},
   "outputs": [
    {
     "data": {
      "text/plain": [
       "16"
      ]
     },
     "execution_count": 7,
     "metadata": {},
     "output_type": "execute_result"
    }
   ],
   "source": [
    "pow(2,100,17)"
   ]
  },
  {
   "cell_type": "code",
   "execution_count": 2,
   "metadata": {},
   "outputs": [],
   "source": [
    "######### Ejercicio 4 #########\n",
    "\n",
    "# Función para calcular los valores de \n",
    "# u y s para un número n-1 que es par,\n",
    "# esto consiste en calcular la descomposición en \n",
    "# números primos de un número par\n",
    "\n",
    "def descomposicionUyS(n):\n",
    "    u=0\n",
    "    while(modPotencia(n,1,2)==0):\n",
    "        n=n//2\n",
    "        u+=1\n",
    "    return u,n\n",
    "\n",
    "# Funciónes para hacer las comprobaciones pertinentes a \n",
    "# cada numero aleatorio que escogemos de Zₚ y sus potencias \n",
    "# de 2ᵘ*s, esta función se llama k veces desde \"esPrimo\" con \n",
    "# k dependiendo del grado de confianza que necesitemos\n",
    "\n",
    "def listaL_apuntes(a,u,s,p):\n",
    "    # Para cada a_i comprobamos unas condiciones\n",
    "    # para sus potencias\n",
    "\n",
    "    # Partimos de a^s\n",
    "    aS=modPotencia(a,s,p)\n",
    "    if aS==1 or aS==p-1:\n",
    "        return True\n",
    "\n",
    "    # Usamos u-1 ya que ya hemos comprobado \n",
    "    # para u=0\n",
    "    for k in np.arange(u-1):\n",
    "        aS=modPotencia(aS,2,p)\n",
    "        # Si hay algun \"a\" que valga -1 devolvemos primo\n",
    "        if aS==p-1:\n",
    "            return True\n",
    "        # Si hay algun \"a\" que valga 1 devolvemos que no es primo\n",
    "        if aS==1:\n",
    "            return False\n",
    "    return False\n",
    "\n",
    "\n",
    "# Función para determinar si dado un número p es (probablemente)\n",
    "# primo usando el método de Miller-Rabin, si devolvemos que no es primo\n",
    "# lo hacemos con total seguridad y si decimos que lo es lo hacemos \n",
    "# con un error de 1/4¹⁰ \n",
    "\n",
    "def esPrimo(p, k):\n",
    "\n",
    "    # Primer caso, si p es par y p ≠ 2\n",
    "    if p!=2 and p%2==0:\n",
    "        return False\n",
    "\n",
    "    # Escogemos k números aleatorios que \n",
    "    # estén en Zₚ y realizamos los siguientes\n",
    "    # calculos para cada uno de ellos\n",
    "    u,s=descomposicionUyS(p-1)\n",
    "\n",
    "    for i in np.arange(k):\n",
    "        # Escogemos el número aleatorio\n",
    "        a_i=random.randint(2,p-1)\n",
    "\n",
    "        # Llamamos a la función que se \n",
    "        # encarga de hacer las comprobaciones\n",
    "        # pertinentes para el número en Zₚ\n",
    "        # Si para alguno de los números aleatorios\n",
    "        # devuelve que no es primo paramos y terminamos\n",
    "        # ya que tenemos la seguridad de que no lo es\n",
    "        if not listaL_apuntes(a_i,u,s,p):\n",
    "            return False\n",
    "\n",
    "    # Si aguantan las condiciones devolvemos\n",
    "    # que es primo\n",
    "    return True\n",
    "\n"
   ]
  },
  {
   "cell_type": "code",
   "execution_count": 10,
   "metadata": {},
   "outputs": [
    {
     "data": {
      "text/plain": [
       "True"
      ]
     },
     "execution_count": 10,
     "metadata": {},
     "output_type": "execute_result"
    }
   ],
   "source": [
    "esPrimo(123457,5)"
   ]
  },
  {
   "cell_type": "code",
   "execution_count": 11,
   "metadata": {},
   "outputs": [
    {
     "data": {
      "text/plain": [
       "False"
      ]
     },
     "execution_count": 11,
     "metadata": {},
     "output_type": "execute_result"
    }
   ],
   "source": [
    "esPrimo(123457*123457,5)"
   ]
  },
  {
   "cell_type": "code",
   "execution_count": 13,
   "metadata": {},
   "outputs": [
    {
     "data": {
      "text/plain": [
       "True"
      ]
     },
     "execution_count": 13,
     "metadata": {},
     "output_type": "execute_result"
    }
   ],
   "source": [
    "esPrimo(9283298739873982799,10)"
   ]
  },
  {
   "cell_type": "code",
   "execution_count": 4,
   "metadata": {},
   "outputs": [
    {
     "data": {
      "text/plain": [
       "True"
      ]
     },
     "execution_count": 4,
     "metadata": {},
     "output_type": "execute_result"
    }
   ],
   "source": [
    "esPrimo(233292832439993999398739873982977,10)"
   ]
  },
  {
   "cell_type": "code",
   "execution_count": 14,
   "metadata": {},
   "outputs": [],
   "source": [
    "######### Ejercicio 5 #########\n",
    "\n",
    "# Para el cálculo de un s que sea mayor o igual que \n",
    "# √p usamos el método de Newton-Raphson para el calculo\n",
    "# de raices cuadradas aunque sabemos la función \n",
    "# math.sqrt de python tambien funciona para valores grandes\n",
    "\n",
    "# Valor n para el que queremos la raiz cuadrada y l\n",
    "# para el nivel de precisión\n",
    "def newtonRaphson(n, l):\n",
    "    # Primero hacemos una suposición con\n",
    "    # respecto al valor de la raiz cuadrada de n\n",
    "    raiz=n\n",
    "\n",
    "    # Condicion, iteramos mientras el error \n",
    "    # entre iteraciones sea mayor a l\n",
    "    cond=True\n",
    "\n",
    "    while(cond):\n",
    "\n",
    "        raiz1=0.5*(raiz+(n/raiz))\n",
    "\n",
    "        # Si hemos llegado a una raiz con un error menor a \n",
    "        # l paramos\n",
    "        if(abs(raiz1-raiz)<l):\n",
    "            cond=False\n",
    "        \n",
    "        # Actualizamos el valor de la raiz\n",
    "        # con el calculado a partir de este\n",
    "        raiz=raiz1\n",
    "\n",
    "    return raiz\n",
    "\n",
    "\n",
    "# Funcion para el algoritmo de paso enano-paso gigante\n",
    "# El algoritm tiene como entrada un a y c no nulos, un p \n",
    "# primo y buscamos un b tal que a^b = c en Zₚ\n",
    "\n",
    "def pasoEnanoGigante(a,c,p):\n",
    "    \n",
    "    # El primer paso es encontrar un \"s\" que \n",
    "    # sea mayor o igual que √p, lo calculamos \n",
    "    # con una precisión suficiente\n",
    "    raizP=newtonRaphson(p,0.00000001)\n",
    "\n",
    "    # El valor de s sera el siguiente entero\n",
    "    # que exista a partir de la raiz de p\n",
    "    # (s es un entero mayor o igual que raiz de p)\n",
    "    s=math.ceil(raizP)\n",
    "    \n",
    "    # Calculamos la primera de las listas\n",
    "    listaS={}\n",
    "    elemento=c\n",
    "    \n",
    "    for r in np.arange(s): # Es decir [0,s-1]\n",
    "        # Añadimos el valor y el indice a la tabla hash\n",
    "        listaS[elemento]=r\n",
    "\n",
    "        # Calculamos el valor de la \n",
    "        # siguiente iteración\n",
    "        elemento=modPotencia(elemento*a,1,p)\n",
    "        \n",
    "\n",
    "    # A partir de la primera lista vamos calculando \n",
    "    # valores de la segunda hasta que encontremos \n",
    "    # una coincidencia o lleguemos al final\n",
    "\n",
    "    # No necesitamos guardar los valores de la segunda lista\n",
    "    # ya que estamos comprobandolos 1 a 1\n",
    "\n",
    "    encontrado=False\n",
    "    elemento=inicial=modPotencia(a,s,p)\n",
    "    for t in np.arange(s)+1:\n",
    "\n",
    "        # Paramos si el elemento calculado en la iteración actual\n",
    "        # coincide con alguno de la primera lista\n",
    "        if elemento in listaS:\n",
    "            encontrado=True\n",
    "            logaritmo=t*s-listaS[elemento] # r\n",
    "            break\n",
    "\n",
    "        # Calculamos el valor de la \n",
    "        # siguiente iteración\n",
    "        elemento=modPotencia(elemento*inicial,1,p)\n",
    "\n",
    "    # Si se ha encontrado alguna coincidencia entre las 2 listas\n",
    "    # se devuelve el algoritmo calculado, en otro caso se vuelve\n",
    "    # que no existe\n",
    "    if encontrado:\n",
    "        return logaritmo\n",
    "    \n",
    "    return \"no existe el logaritmo\"\n",
    "\n"
   ]
  },
  {
   "cell_type": "markdown",
   "metadata": {},
   "source": [
    "Sería mejor un error o un None en caso de no existir"
   ]
  },
  {
   "cell_type": "code",
   "execution_count": 15,
   "metadata": {},
   "outputs": [
    {
     "data": {
      "text/plain": [
       "2"
      ]
     },
     "execution_count": 15,
     "metadata": {},
     "output_type": "execute_result"
    }
   ],
   "source": [
    "pasoEnanoGigante(2,4,17)"
   ]
  },
  {
   "cell_type": "code",
   "execution_count": 16,
   "metadata": {},
   "outputs": [
    {
     "data": {
      "text/plain": [
       "20"
      ]
     },
     "execution_count": 16,
     "metadata": {},
     "output_type": "execute_result"
    }
   ],
   "source": [
    "pasoEnanoGigante(5,pow(5,20,41),41)"
   ]
  },
  {
   "cell_type": "code",
   "execution_count": 24,
   "metadata": {},
   "outputs": [],
   "source": [
    "######### Ejercicio 6 #########\n",
    "\"\"\"\n",
    "    Escribe una función que, dado un entero a y un primo p \n",
    "    con a p = 1, devuelve r tal que r 2 ≡ a mód p\n",
    "    ([3, §2.3.4]; primero te hará falta implementar \n",
    "    el símbolo de Jacobi [1, 2.149]).\n",
    "\"\"\"\n",
    "\n",
    "# Función para el cálculo del simbolo de Jacobi para \n",
    "# un a sobre n (y para el cálculo del simbolo de Legendre en el \n",
    "# caso de que n sea primo) (a/p(n))\n",
    "\n",
    "def simboloJacobiLegendre(a,n):\n",
    "    # Comprobamos que se cumplan las condiciones\n",
    "    # iniciales establecidas, aunque se puede \n",
    "    # calcular de igual manera aunque no se cumplan\n",
    "    # estan condiciones\n",
    "    assert n>=3 and a>=0 and a<n\n",
    "\n",
    "    if a==0:\n",
    "        return 0\n",
    "    if a==1:\n",
    "        return 1\n",
    "    \n",
    "    # Descomponemos a en potencias de 2 por un \n",
    "    # número impar\n",
    "    e,a_1=descomposicionUyS(a)\n",
    "\n",
    "    # Si el número es par entonces s=1\n",
    "    s=0\n",
    "    if modPotencia(e,1,2)==0:\n",
    "        s=1\n",
    "    else: \n",
    "        # Si no es impar comprobamos que n sea congruente con 1\n",
    "        # modulo 8 o que lo sea con 7 en cuyo caso s=1\n",
    "        if modPotencia(n-1,1,8)==0 or modPotencia(n-7,1,8)==0:\n",
    "            s=1\n",
    "        # Si no se cumplen las congruencias anteriores comprobamos que\n",
    "        # n sea congruente con 3 o 5 modulo 8\n",
    "        if modPotencia(n-3,1,8)==0 or modPotencia(n-5,1,8)==0:\n",
    "            s=-1\n",
    "    \n",
    "    # Si n y a_1 son congruentes con 3 módulo 4 entonces \n",
    "    # s=-s\n",
    "    if modPotencia(n-3,1,4)==0 and modPotencia(a_1-3,1,4)==0:\n",
    "        s=-s\n",
    "    \n",
    "    n1=modPotencia(n,1,a_1)\n",
    "\n",
    "    if a_1==1:\n",
    "        return s\n",
    "    else:\n",
    "        return s*simboloJacobiLegendre(n1,a_1)\n",
    "    \n",
    "\n",
    "# A partir de la función para el cálculo del\n",
    "# simbolo de Jacobi calculada procedemos con la \n",
    "# primera de las funciones pedidas\n",
    "\n",
    "# La función tiene como entrada un entero a y\n",
    "# un primo p \n",
    "def squaringTrapdoorRabin(a, p):\n",
    "\n",
    "    # Ejemplo de output para el simbolo de Jacobi para la \n",
    "    # implementación propia y la implementación de sympy\n",
    "\n",
    "    \"\"\" print([legendre_symbol(i, 7) for i in range(7)])\n",
    "    print([simboloJacobiLegendre(i, 7) for i in range(7)]) \"\"\"\n",
    "\n",
    "    # A partir de la implementación anterior del \n",
    "    # símbolo de Jacobi tenemos como condición que el\n",
    "    # símbolo de Legendre(ya que si p es primo el simbolo de\n",
    "    # Jacobi es equivalente al de Legendre) para\n",
    "    # a sobre p sea 1, ya que sabemos\n",
    "    # que para que exista algún r tal que r^2 sea \n",
    "    # congruente con a modulo p el símbolo de Legendre \n",
    "    # para a y para p tiene que ser 1\n",
    "\n",
    "    if simboloJacobiLegendre(a,p)!=1:\n",
    "        print(\"No existe un r para el a y p dados\")\n",
    "        # Con devolver -1 nos basta, ya que en todos los demas\n",
    "        # casos se devuelve un entero módulo p y me es util para\n",
    "        # el apartado siguiente\n",
    "        return -1\n",
    "    \n",
    "    # Si existe un r lo buscamos según el algoritmo\n",
    "    # planteado por \"Lecture Notes on Cryptography\"\n",
    "      \n",
    "    # En primer lugar si p es congruente con 3 módulo 4, \n",
    "    # devolvemos que a elevado a m+1 módulo p es la raiz, \n",
    "    # siendo m el número por el que tenemos que multiplicar\n",
    "    # 4 para que sea igual que p-3\n",
    "    if modPotencia(p-3,1,4)==0:\n",
    "        m=(p-3)//4\n",
    "        return modPotencia(a,m+1,p)\n",
    "\n",
    "\n",
    "    if modPotencia(p-1,1,4)==0:\n",
    "        m=(p-1)//4\n",
    "        \n",
    "        # Buscamos un valor aleatorio de b que\n",
    "        # satisfaga que su simbolo de Jacobi sobre\n",
    "        # p sea -1, es decir que no sea un residuo\n",
    "        # cuadrático\n",
    "        b=random.randint(0,p-1)\n",
    "        while simboloJacobiLegendre(b,p)!=-1:\n",
    "            b=random.randint(0,p-1)\n",
    "\n",
    "        # Cuando hemos encontrado un b\n",
    "        i=modPotencia(2*m,1,p)\n",
    "        j=0\n",
    "\n",
    "        # Repetimos el siguiente bucle mientras que \n",
    "        # i sea par\n",
    "        while modPotencia(i,1,2)!=1:\n",
    "            i=i//2\n",
    "            j=j//2\n",
    "\n",
    "            a_i=modPotencia(a,i,p)\n",
    "            b_i=modPotencia(b,j,p)\n",
    "            if modPotencia(a_i*b_i,1,p)==p-1:\n",
    "                j=modPotencia(j+2*m,1,p)\n",
    "        \n",
    "        # Cuando i pase a ser impar devolvemos que \n",
    "        # a elevado a i+1 entre 2 por b elevado a j\n",
    "        # entre 2 es una raiz de a módulo p\n",
    "        return modPotencia(modPotencia(a,(i+1)/2,p)*modPotencia(b,j/2,p),1,p)\n",
    "\n",
    "# Función alternativa a la planteada arriba sacada de \n",
    "# \"Handbook of Applied Cryptography\" para sacar las\n",
    "# 2 raices de un a módulo p\n",
    "\n",
    "def raicesEnP(a, p):\n",
    "    if not esPrimo(p,10):\n",
    "        return \"Error, \"+str(p)+\" no es primo \"\n",
    "    \n",
    "    if modPotencia(p-3,1,4)==0:\n",
    "        r=modPotencia(a,(p+1)/4,p)\n",
    "        return [r,-r]\n",
    "    \n",
    "    if modPotencia(p-5,1,8)==0:\n",
    "        d=modPotencia(a,(p-1)/4,p)\n",
    "\n",
    "        if d==1:\n",
    "            r=modPotencia(a,(p+3)/8,p)\n",
    "            return [r,-r]\n",
    "        if d==p-1:\n",
    "            r=modPotencia(modPotencia(2*a,1,p)*modPotencia(4*a,(p-5)/8,p),1,p)\n",
    "            return [r,-r]\n",
    "\n",
    "# Segundo apartado del ejercicio, a partir de un \"a\" que es residuo\n",
    "# cuadrático para un p y un q primos, uso el teorema chino de los \n",
    "# restos para calcular todas las raíces cuadradas de a modulo n siendo \n",
    "# n=pq a partir de las de p y q\n",
    "\n",
    "# Uso el algoritmo 3.44 de \"Handbook of applied Cryptography\"\n",
    "\n",
    "def raicesNCompuesto(a,p,q):\n",
    "    n=p*q\n",
    "    # Calculo las raices de \"a\" módulo p y q por separado\n",
    "    #rp,sq=squaringTrapdoorRabin(a,p),squaringTrapdoorRabin(a,q)\n",
    "    rp,sq=squaringTrapdoorRabin(a%p,p),squaringTrapdoorRabin(a%q,q)\n",
    "    rp2,sq2=modPotencia(-rp,1,p),modPotencia(-sq,1,q)\n",
    "\n",
    "    if rp==-1 or sq==-1:\n",
    "        return \"Error, \"+str(a)+\" no es residuo cuadratico para \"+str(p)+\" o \"+str(q)\n",
    "\n",
    "    # Usamos el algoritmo extendido de euclides para encontrar c y d\n",
    "    # tales que c*p+d*q=1 es decir los coeficientes de bezout de p y q\n",
    "    m=mcd(p,q)\n",
    "    c,d=m[1:]\n",
    "    c,d=int(c),int(d)\n",
    "\n",
    "    # Ahora con los coeficientes de Bezout calculamos las raices \n",
    "    # de n a partir de las de p y q usando el teorema chino de \n",
    "    # los restos\n",
    "    x=modPotencia(rp*d*q+sq*c*p,1,n)\n",
    "    y=modPotencia(rp*d*q+sq2*c*p,1,n)\n",
    "    x2,y2=modPotencia(-x,1,n),modPotencia(-y,1,n)\n",
    "\n",
    "    return [x,x2,y,y2]\n",
    "    \n"
   ]
  },
  {
   "cell_type": "code",
   "execution_count": 20,
   "metadata": {},
   "outputs": [
    {
     "data": {
      "text/plain": [
       "37"
      ]
     },
     "execution_count": 20,
     "metadata": {},
     "output_type": "execute_result"
    }
   ],
   "source": [
    "squaringTrapdoorRabin(pow(37,2,41),41)"
   ]
  },
  {
   "cell_type": "code",
   "execution_count": 22,
   "metadata": {},
   "outputs": [],
   "source": [
    "raicesEnP(pow(37,2,41),41)"
   ]
  },
  {
   "cell_type": "markdown",
   "metadata": {},
   "source": [
    "No parece funcionar"
   ]
  },
  {
   "cell_type": "markdown",
   "metadata": {},
   "source": [
    "Para qué `    rp2,sq2=modPotencia(-rp,1,p),modPotencia(-sq,1,q)`?\n",
    "Cambio `rp,sq=squaringTrapdoorRabin(a,p),squaringTrapdoorRabin(a,q)` `rp,sq=squaringTrapdoorRabin(a%p,p),squaringTrapdoorRabin(a%q,q)`"
   ]
  },
  {
   "cell_type": "code",
   "execution_count": 23,
   "metadata": {},
   "outputs": [
    {
     "ename": "AssertionError",
     "evalue": "",
     "output_type": "error",
     "traceback": [
      "\u001b[0;31m---------------------------------------------------------------------------\u001b[0m",
      "\u001b[0;31mAssertionError\u001b[0m                            Traceback (most recent call last)",
      "\u001b[0;32m<ipython-input-23-bfe4ab83cc92>\u001b[0m in \u001b[0;36m<module>\u001b[0;34m\u001b[0m\n\u001b[0;32m----> 1\u001b[0;31m \u001b[0mraicesNCompuesto\u001b[0m\u001b[0;34m(\u001b[0m\u001b[0mpow\u001b[0m\u001b[0;34m(\u001b[0m\u001b[0;36m15\u001b[0m\u001b[0;34m,\u001b[0m\u001b[0;36m2\u001b[0m\u001b[0;34m,\u001b[0m\u001b[0;36m31\u001b[0m\u001b[0;34m*\u001b[0m\u001b[0;36m41\u001b[0m\u001b[0;34m)\u001b[0m\u001b[0;34m,\u001b[0m\u001b[0;36m31\u001b[0m\u001b[0;34m,\u001b[0m\u001b[0;36m41\u001b[0m\u001b[0;34m)\u001b[0m\u001b[0;34m\u001b[0m\u001b[0;34m\u001b[0m\u001b[0m\n\u001b[0m",
      "\u001b[0;32m<ipython-input-17-fa608fe8243f>\u001b[0m in \u001b[0;36mraicesNCompuesto\u001b[0;34m(a, p, q)\u001b[0m\n\u001b[1;32m    159\u001b[0m     \u001b[0mn\u001b[0m\u001b[0;34m=\u001b[0m\u001b[0mp\u001b[0m\u001b[0;34m*\u001b[0m\u001b[0mq\u001b[0m\u001b[0;34m\u001b[0m\u001b[0;34m\u001b[0m\u001b[0m\n\u001b[1;32m    160\u001b[0m     \u001b[0;31m# Calculo las raices de \"a\" módulo p y q por separado\u001b[0m\u001b[0;34m\u001b[0m\u001b[0;34m\u001b[0m\u001b[0;34m\u001b[0m\u001b[0m\n\u001b[0;32m--> 161\u001b[0;31m     \u001b[0mrp\u001b[0m\u001b[0;34m,\u001b[0m\u001b[0msq\u001b[0m\u001b[0;34m=\u001b[0m\u001b[0msquaringTrapdoorRabin\u001b[0m\u001b[0;34m(\u001b[0m\u001b[0ma\u001b[0m\u001b[0;34m,\u001b[0m\u001b[0mp\u001b[0m\u001b[0;34m)\u001b[0m\u001b[0;34m,\u001b[0m\u001b[0msquaringTrapdoorRabin\u001b[0m\u001b[0;34m(\u001b[0m\u001b[0ma\u001b[0m\u001b[0;34m,\u001b[0m\u001b[0mq\u001b[0m\u001b[0;34m)\u001b[0m\u001b[0;34m\u001b[0m\u001b[0;34m\u001b[0m\u001b[0m\n\u001b[0m\u001b[1;32m    162\u001b[0m     \u001b[0mrp2\u001b[0m\u001b[0;34m,\u001b[0m\u001b[0msq2\u001b[0m\u001b[0;34m=\u001b[0m\u001b[0mmodPotencia\u001b[0m\u001b[0;34m(\u001b[0m\u001b[0;34m-\u001b[0m\u001b[0mrp\u001b[0m\u001b[0;34m,\u001b[0m\u001b[0;36m1\u001b[0m\u001b[0;34m,\u001b[0m\u001b[0mp\u001b[0m\u001b[0;34m)\u001b[0m\u001b[0;34m,\u001b[0m\u001b[0mmodPotencia\u001b[0m\u001b[0;34m(\u001b[0m\u001b[0;34m-\u001b[0m\u001b[0msq\u001b[0m\u001b[0;34m,\u001b[0m\u001b[0;36m1\u001b[0m\u001b[0;34m,\u001b[0m\u001b[0mq\u001b[0m\u001b[0;34m)\u001b[0m\u001b[0;34m\u001b[0m\u001b[0;34m\u001b[0m\u001b[0m\n\u001b[1;32m    163\u001b[0m \u001b[0;34m\u001b[0m\u001b[0m\n",
      "\u001b[0;32m<ipython-input-17-fa608fe8243f>\u001b[0m in \u001b[0;36msquaringTrapdoorRabin\u001b[0;34m(a, p)\u001b[0m\n\u001b[1;32m     77\u001b[0m     \u001b[0;31m# para a y para p tiene que ser 1\u001b[0m\u001b[0;34m\u001b[0m\u001b[0;34m\u001b[0m\u001b[0;34m\u001b[0m\u001b[0m\n\u001b[1;32m     78\u001b[0m \u001b[0;34m\u001b[0m\u001b[0m\n\u001b[0;32m---> 79\u001b[0;31m     \u001b[0;32mif\u001b[0m \u001b[0msimboloJacobiLegendre\u001b[0m\u001b[0;34m(\u001b[0m\u001b[0ma\u001b[0m\u001b[0;34m,\u001b[0m\u001b[0mp\u001b[0m\u001b[0;34m)\u001b[0m\u001b[0;34m!=\u001b[0m\u001b[0;36m1\u001b[0m\u001b[0;34m:\u001b[0m\u001b[0;34m\u001b[0m\u001b[0;34m\u001b[0m\u001b[0m\n\u001b[0m\u001b[1;32m     80\u001b[0m         \u001b[0mprint\u001b[0m\u001b[0;34m(\u001b[0m\u001b[0;34m\"No existe un r para el a y p dados\"\u001b[0m\u001b[0;34m)\u001b[0m\u001b[0;34m\u001b[0m\u001b[0;34m\u001b[0m\u001b[0m\n\u001b[1;32m     81\u001b[0m         \u001b[0;31m# Con devolver -1 nos basta, ya que en todos los demas\u001b[0m\u001b[0;34m\u001b[0m\u001b[0;34m\u001b[0m\u001b[0;34m\u001b[0m\u001b[0m\n",
      "\u001b[0;32m<ipython-input-17-fa608fe8243f>\u001b[0m in \u001b[0;36msimboloJacobiLegendre\u001b[0;34m(a, n)\u001b[0m\n\u001b[1;32m     16\u001b[0m     \u001b[0;31m# calcular de igual manera aunque no se cumplan\u001b[0m\u001b[0;34m\u001b[0m\u001b[0;34m\u001b[0m\u001b[0;34m\u001b[0m\u001b[0m\n\u001b[1;32m     17\u001b[0m     \u001b[0;31m# estan condiciones\u001b[0m\u001b[0;34m\u001b[0m\u001b[0;34m\u001b[0m\u001b[0;34m\u001b[0m\u001b[0m\n\u001b[0;32m---> 18\u001b[0;31m     \u001b[0;32massert\u001b[0m \u001b[0mn\u001b[0m\u001b[0;34m>=\u001b[0m\u001b[0;36m3\u001b[0m \u001b[0;32mand\u001b[0m \u001b[0ma\u001b[0m\u001b[0;34m>=\u001b[0m\u001b[0;36m0\u001b[0m \u001b[0;32mand\u001b[0m \u001b[0ma\u001b[0m\u001b[0;34m<\u001b[0m\u001b[0mn\u001b[0m\u001b[0;34m\u001b[0m\u001b[0;34m\u001b[0m\u001b[0m\n\u001b[0m\u001b[1;32m     19\u001b[0m \u001b[0;34m\u001b[0m\u001b[0m\n\u001b[1;32m     20\u001b[0m     \u001b[0;32mif\u001b[0m \u001b[0ma\u001b[0m\u001b[0;34m==\u001b[0m\u001b[0;36m0\u001b[0m\u001b[0;34m:\u001b[0m\u001b[0;34m\u001b[0m\u001b[0;34m\u001b[0m\u001b[0m\n",
      "\u001b[0;31mAssertionError\u001b[0m: "
     ]
    }
   ],
   "source": [
    "raicesNCompuesto(pow(15,2,31*41),31,41)"
   ]
  },
  {
   "cell_type": "code",
   "execution_count": 25,
   "metadata": {},
   "outputs": [
    {
     "data": {
      "text/plain": [
       "[1256, 15, 1163, 108]"
      ]
     },
     "execution_count": 25,
     "metadata": {},
     "output_type": "execute_result"
    }
   ],
   "source": [
    "raicesNCompuesto(pow(15,2,31*41),31,41)"
   ]
  },
  {
   "cell_type": "code",
   "execution_count": 26,
   "metadata": {},
   "outputs": [
    {
     "data": {
      "text/plain": [
       "[225, 225, 225, 225]"
      ]
     },
     "execution_count": 26,
     "metadata": {},
     "output_type": "execute_result"
    }
   ],
   "source": [
    "[pow(a,2,31*41) for a in _]"
   ]
  },
  {
   "cell_type": "code",
   "execution_count": 27,
   "metadata": {},
   "outputs": [
    {
     "data": {
      "text/plain": [
       "[283, 988, 4, 1267]"
      ]
     },
     "execution_count": 27,
     "metadata": {},
     "output_type": "execute_result"
    }
   ],
   "source": [
    "raicesNCompuesto(16,31,41)"
   ]
  },
  {
   "cell_type": "code",
   "execution_count": 28,
   "metadata": {},
   "outputs": [
    {
     "data": {
      "text/plain": [
       "[1268, 3, 741, 530]"
      ]
     },
     "execution_count": 28,
     "metadata": {},
     "output_type": "execute_result"
    }
   ],
   "source": [
    "raicesNCompuesto(9,31,41)"
   ]
  },
  {
   "cell_type": "code",
   "execution_count": 29,
   "metadata": {},
   "outputs": [
    {
     "data": {
      "text/plain": [
       "[9, 9, 9, 9]"
      ]
     },
     "execution_count": 29,
     "metadata": {},
     "output_type": "execute_result"
    }
   ],
   "source": [
    "[pow(a,2,31*41) for a in _]"
   ]
  },
  {
   "cell_type": "code",
   "execution_count": 31,
   "metadata": {},
   "outputs": [],
   "source": [
    "######### Ejercicio 7 #########\n",
    "\n",
    "# Todo número natural mayor que 1, o es primo, o se puede expresar\n",
    "# de forma única como producto de primos\n",
    "\n",
    "# Factorización de un número por el método de \n",
    "# Fermat, metodo útil en el caso de que n tenga dos \n",
    "# divisores relativamente proximos y proximos a \n",
    "# n/2\n",
    "def factorizacionFermat(n):\n",
    "\n",
    "    # Obtenemos la raiz cuadrada de n y obtenemos el entero\n",
    "    # inmediatamente superior, mientras x^2-n no sea un \n",
    "    # cuadrado perfecto incrementamos x en una unidad\n",
    "\n",
    "    x=math.ceil(newtonRaphson(n,0.000001))\n",
    "    x2n=pow(x,2)-n\n",
    "\n",
    "    # pow(round(newtonRaphson((pow(x,2)-n),0.00001)),2)!=(pow(x,2)-n):\n",
    "    while pow(math.floor(newtonRaphson(x2n,0.0001)+0.5),2)!=x2n:\n",
    "        # Compruebo que sea un cuadrado perfecto calculando la aproximacion\n",
    "        # de la raiz cuadrada y en el caso de que el cuadrado de esta apro-\n",
    "        # mación sea igual pues concluyo que lo es\n",
    "        x+=1\n",
    "        x2n=pow(x,2)-n\n",
    "    \n",
    "    # Una vez que tenemos un x tal que x^2-n es un cuadrado perfecto\n",
    "    # le asignamos a y el valor de la raiz cuadrada de x^2-n\n",
    "    y=int(newtonRaphson((pow(x,2)-n),0.00001)+0.5)\n",
    "\n",
    "    # Devolvemos los factores encontrados\n",
    "    return [x+y,x-y]\n",
    "    \n",
    "# Factorización de un número por el método de \n",
    "# Pollard, devolvemos un factor d no trivial de n\n",
    "def factorizacionPollard(n):\n",
    "    # Comprobamos que sea primo, en cuyo caso devolvemos \n",
    "    # el propio n\n",
    "    if esPrimo(n,10):\n",
    "        return n\n",
    "    \n",
    "    a,b,d=2,2,1\n",
    "    # Mientras d valga 1\n",
    "    while d==1:\n",
    "        \n",
    "        # Le aplicamos a \"a\" la funcion g(x)=(x^2+1) mod n 1 vez\n",
    "        # y a b dos veces \n",
    "        a=modPotencia(modPotencia(a,2,n)+1,1,n)\n",
    "        b=modPotencia(modPotencia(b,2,n)+1,1,n)\n",
    "        b=modPotencia(modPotencia(b,2,n)+1,1,n)\n",
    "\n",
    "        # Calculamos el MCD para a-b y n y se\n",
    "        # lo asignamos a d\n",
    "        d=mcd(modPotencia(a-b,1,n),n)[0]\n",
    "    \n",
    "        if 1<d<n:\n",
    "            return d\n",
    "        if d==n:\n",
    "            return \"Fracaso al encontrar un factor no trivial\"\n",
    "    \n"
   ]
  },
  {
   "cell_type": "code",
   "execution_count": 36,
   "metadata": {},
   "outputs": [
    {
     "data": {
      "text/plain": [
       "1.5311202706658938e+17"
      ]
     },
     "execution_count": 36,
     "metadata": {},
     "output_type": "execute_result"
    }
   ],
   "source": [
    "newtonRaphson(23443292832439993999398739873983119,0.00000001)"
   ]
  },
  {
   "cell_type": "code",
   "execution_count": 37,
   "metadata": {},
   "outputs": [
    {
     "data": {
      "text/plain": [
       "153112027066589376"
      ]
     },
     "execution_count": 37,
     "metadata": {},
     "output_type": "execute_result"
    }
   ],
   "source": [
    "math.ceil(_)"
   ]
  },
  {
   "cell_type": "markdown",
   "metadata": {},
   "source": [
    "Sin embargo, RootInt de gap da 153112027066589363"
   ]
  },
  {
   "cell_type": "code",
   "execution_count": 38,
   "metadata": {},
   "outputs": [
    {
     "ename": "ZeroDivisionError",
     "evalue": "division by zero",
     "output_type": "error",
     "traceback": [
      "\u001b[0;31m---------------------------------------------------------------------------\u001b[0m",
      "\u001b[0;31mZeroDivisionError\u001b[0m                         Traceback (most recent call last)",
      "\u001b[0;32m<ipython-input-38-e8279fe60150>\u001b[0m in \u001b[0;36m<module>\u001b[0;34m\u001b[0m\n\u001b[0;32m----> 1\u001b[0;31m \u001b[0mfactorizacionFermat\u001b[0m\u001b[0;34m(\u001b[0m\u001b[0;36m123457\u001b[0m\u001b[0;34m*\u001b[0m\u001b[0;36m123457\u001b[0m\u001b[0;34m)\u001b[0m\u001b[0;34m\u001b[0m\u001b[0;34m\u001b[0m\u001b[0m\n\u001b[0m",
      "\u001b[0;32m<ipython-input-31-9d26705fe0c3>\u001b[0m in \u001b[0;36mfactorizacionFermat\u001b[0;34m(n)\u001b[0m\n\u001b[1;32m     18\u001b[0m \u001b[0;34m\u001b[0m\u001b[0m\n\u001b[1;32m     19\u001b[0m     \u001b[0;31m# pow(round(newtonRaphson((pow(x,2)-n),0.00001)),2)!=(pow(x,2)-n):\u001b[0m\u001b[0;34m\u001b[0m\u001b[0;34m\u001b[0m\u001b[0;34m\u001b[0m\u001b[0m\n\u001b[0;32m---> 20\u001b[0;31m     \u001b[0;32mwhile\u001b[0m \u001b[0mpow\u001b[0m\u001b[0;34m(\u001b[0m\u001b[0mmath\u001b[0m\u001b[0;34m.\u001b[0m\u001b[0mfloor\u001b[0m\u001b[0;34m(\u001b[0m\u001b[0mnewtonRaphson\u001b[0m\u001b[0;34m(\u001b[0m\u001b[0mx2n\u001b[0m\u001b[0;34m,\u001b[0m\u001b[0;36m0.0001\u001b[0m\u001b[0;34m)\u001b[0m\u001b[0;34m+\u001b[0m\u001b[0;36m0.5\u001b[0m\u001b[0;34m)\u001b[0m\u001b[0;34m,\u001b[0m\u001b[0;36m2\u001b[0m\u001b[0;34m)\u001b[0m\u001b[0;34m!=\u001b[0m\u001b[0mx2n\u001b[0m\u001b[0;34m:\u001b[0m\u001b[0;34m\u001b[0m\u001b[0;34m\u001b[0m\u001b[0m\n\u001b[0m\u001b[1;32m     21\u001b[0m         \u001b[0;31m# Compruebo que sea un cuadrado perfecto calculando la aproximacion\u001b[0m\u001b[0;34m\u001b[0m\u001b[0;34m\u001b[0m\u001b[0;34m\u001b[0m\u001b[0m\n\u001b[1;32m     22\u001b[0m         \u001b[0;31m# de la raiz cuadrada y en el caso de que el cuadrado de esta apro-\u001b[0m\u001b[0;34m\u001b[0m\u001b[0;34m\u001b[0m\u001b[0;34m\u001b[0m\u001b[0m\n",
      "\u001b[0;32m<ipython-input-14-cca9b0773921>\u001b[0m in \u001b[0;36mnewtonRaphson\u001b[0;34m(n, l)\u001b[0m\n\u001b[1;32m     19\u001b[0m     \u001b[0;32mwhile\u001b[0m\u001b[0;34m(\u001b[0m\u001b[0mcond\u001b[0m\u001b[0;34m)\u001b[0m\u001b[0;34m:\u001b[0m\u001b[0;34m\u001b[0m\u001b[0;34m\u001b[0m\u001b[0m\n\u001b[1;32m     20\u001b[0m \u001b[0;34m\u001b[0m\u001b[0m\n\u001b[0;32m---> 21\u001b[0;31m         \u001b[0mraiz1\u001b[0m\u001b[0;34m=\u001b[0m\u001b[0;36m0.5\u001b[0m\u001b[0;34m*\u001b[0m\u001b[0;34m(\u001b[0m\u001b[0mraiz\u001b[0m\u001b[0;34m+\u001b[0m\u001b[0;34m(\u001b[0m\u001b[0mn\u001b[0m\u001b[0;34m/\u001b[0m\u001b[0mraiz\u001b[0m\u001b[0;34m)\u001b[0m\u001b[0;34m)\u001b[0m\u001b[0;34m\u001b[0m\u001b[0;34m\u001b[0m\u001b[0m\n\u001b[0m\u001b[1;32m     22\u001b[0m \u001b[0;34m\u001b[0m\u001b[0m\n\u001b[1;32m     23\u001b[0m         \u001b[0;31m# Si hemos llegado a una raiz con un error menor a\u001b[0m\u001b[0;34m\u001b[0m\u001b[0;34m\u001b[0m\u001b[0;34m\u001b[0m\u001b[0m\n",
      "\u001b[0;31mZeroDivisionError\u001b[0m: division by zero"
     ]
    }
   ],
   "source": [
    "factorizacionFermat(123457*123457)"
   ]
  },
  {
   "cell_type": "code",
   "execution_count": 39,
   "metadata": {},
   "outputs": [
    {
     "ename": "ZeroDivisionError",
     "evalue": "division by zero",
     "output_type": "error",
     "traceback": [
      "\u001b[0;31m---------------------------------------------------------------------------\u001b[0m",
      "\u001b[0;31mZeroDivisionError\u001b[0m                         Traceback (most recent call last)",
      "\u001b[0;32m<ipython-input-39-10565c74a458>\u001b[0m in \u001b[0;36m<module>\u001b[0;34m\u001b[0m\n\u001b[0;32m----> 1\u001b[0;31m \u001b[0mfactorizacionFermat\u001b[0m\u001b[0;34m(\u001b[0m\u001b[0;36m41\u001b[0m\u001b[0;34m*\u001b[0m\u001b[0;36m41\u001b[0m\u001b[0;34m)\u001b[0m\u001b[0;34m\u001b[0m\u001b[0;34m\u001b[0m\u001b[0m\n\u001b[0m",
      "\u001b[0;32m<ipython-input-31-9d26705fe0c3>\u001b[0m in \u001b[0;36mfactorizacionFermat\u001b[0;34m(n)\u001b[0m\n\u001b[1;32m     18\u001b[0m \u001b[0;34m\u001b[0m\u001b[0m\n\u001b[1;32m     19\u001b[0m     \u001b[0;31m# pow(round(newtonRaphson((pow(x,2)-n),0.00001)),2)!=(pow(x,2)-n):\u001b[0m\u001b[0;34m\u001b[0m\u001b[0;34m\u001b[0m\u001b[0;34m\u001b[0m\u001b[0m\n\u001b[0;32m---> 20\u001b[0;31m     \u001b[0;32mwhile\u001b[0m \u001b[0mpow\u001b[0m\u001b[0;34m(\u001b[0m\u001b[0mmath\u001b[0m\u001b[0;34m.\u001b[0m\u001b[0mfloor\u001b[0m\u001b[0;34m(\u001b[0m\u001b[0mnewtonRaphson\u001b[0m\u001b[0;34m(\u001b[0m\u001b[0mx2n\u001b[0m\u001b[0;34m,\u001b[0m\u001b[0;36m0.0001\u001b[0m\u001b[0;34m)\u001b[0m\u001b[0;34m+\u001b[0m\u001b[0;36m0.5\u001b[0m\u001b[0;34m)\u001b[0m\u001b[0;34m,\u001b[0m\u001b[0;36m2\u001b[0m\u001b[0;34m)\u001b[0m\u001b[0;34m!=\u001b[0m\u001b[0mx2n\u001b[0m\u001b[0;34m:\u001b[0m\u001b[0;34m\u001b[0m\u001b[0;34m\u001b[0m\u001b[0m\n\u001b[0m\u001b[1;32m     21\u001b[0m         \u001b[0;31m# Compruebo que sea un cuadrado perfecto calculando la aproximacion\u001b[0m\u001b[0;34m\u001b[0m\u001b[0;34m\u001b[0m\u001b[0;34m\u001b[0m\u001b[0m\n\u001b[1;32m     22\u001b[0m         \u001b[0;31m# de la raiz cuadrada y en el caso de que el cuadrado de esta apro-\u001b[0m\u001b[0;34m\u001b[0m\u001b[0;34m\u001b[0m\u001b[0;34m\u001b[0m\u001b[0m\n",
      "\u001b[0;32m<ipython-input-14-cca9b0773921>\u001b[0m in \u001b[0;36mnewtonRaphson\u001b[0;34m(n, l)\u001b[0m\n\u001b[1;32m     19\u001b[0m     \u001b[0;32mwhile\u001b[0m\u001b[0;34m(\u001b[0m\u001b[0mcond\u001b[0m\u001b[0;34m)\u001b[0m\u001b[0;34m:\u001b[0m\u001b[0;34m\u001b[0m\u001b[0;34m\u001b[0m\u001b[0m\n\u001b[1;32m     20\u001b[0m \u001b[0;34m\u001b[0m\u001b[0m\n\u001b[0;32m---> 21\u001b[0;31m         \u001b[0mraiz1\u001b[0m\u001b[0;34m=\u001b[0m\u001b[0;36m0.5\u001b[0m\u001b[0;34m*\u001b[0m\u001b[0;34m(\u001b[0m\u001b[0mraiz\u001b[0m\u001b[0;34m+\u001b[0m\u001b[0;34m(\u001b[0m\u001b[0mn\u001b[0m\u001b[0;34m/\u001b[0m\u001b[0mraiz\u001b[0m\u001b[0;34m)\u001b[0m\u001b[0;34m)\u001b[0m\u001b[0;34m\u001b[0m\u001b[0;34m\u001b[0m\u001b[0m\n\u001b[0m\u001b[1;32m     22\u001b[0m \u001b[0;34m\u001b[0m\u001b[0m\n\u001b[1;32m     23\u001b[0m         \u001b[0;31m# Si hemos llegado a una raiz con un error menor a\u001b[0m\u001b[0;34m\u001b[0m\u001b[0;34m\u001b[0m\u001b[0;34m\u001b[0m\u001b[0m\n",
      "\u001b[0;31mZeroDivisionError\u001b[0m: division by zero"
     ]
    }
   ],
   "source": [
    "factorizacionFermat(41*41)"
   ]
  },
  {
   "cell_type": "code",
   "execution_count": 40,
   "metadata": {},
   "outputs": [
    {
     "data": {
      "text/plain": [
       "[123457, 123]"
      ]
     },
     "execution_count": 40,
     "metadata": {},
     "output_type": "execute_result"
    }
   ],
   "source": [
    "factorizacionFermat(123457*123)"
   ]
  },
  {
   "cell_type": "code",
   "execution_count": 41,
   "metadata": {},
   "outputs": [
    {
     "data": {
      "text/plain": [
       "123457"
      ]
     },
     "execution_count": 41,
     "metadata": {},
     "output_type": "execute_result"
    }
   ],
   "source": [
    "factorizacionPollard(123457*123457)"
   ]
  },
  {
   "cell_type": "code",
   "execution_count": null,
   "metadata": {},
   "outputs": [],
   "source": []
  }
 ],
 "metadata": {
  "kernelspec": {
   "display_name": "Python 3",
   "language": "python",
   "name": "python3"
  },
  "language_info": {
   "codemirror_mode": {
    "name": "ipython",
    "version": 3
   },
   "file_extension": ".py",
   "mimetype": "text/x-python",
   "name": "python",
   "nbconvert_exporter": "python",
   "pygments_lexer": "ipython3",
   "version": "3.6.7"
  }
 },
 "nbformat": 4,
 "nbformat_minor": 2
}
