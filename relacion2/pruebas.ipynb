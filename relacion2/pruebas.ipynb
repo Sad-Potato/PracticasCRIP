{
 "cells": [
  {
   "cell_type": "code",
   "execution_count": 1,
   "id": "e2571185",
   "metadata": {},
   "outputs": [],
   "source": [
    "from ast import Return\n",
    "import numpy as np\n",
    "import random\n"
   ]
  },
  {
   "cell_type": "code",
   "execution_count": 4,
   "id": "268be4a0",
   "metadata": {},
   "outputs": [],
   "source": [
    "\"\"\"\n",
    "\n",
    "Enunciado: Ejercicio 1. Escribe una función que determine si \n",
    "una secuencia de bits cumple los postulados de Golomb\n",
    "\n",
    "\"\"\"\n",
    "def postuladosGolomb(secuencia):\n",
    "\n",
    "    # Comprobamos cada uno de los 3 postulados con la \n",
    "    # secuencia proporcionada\n",
    "\n",
    "    ##############################################\n",
    "\n",
    "    # Primer postulado: que haya el mismo número de 0s y 1s, \n",
    "    # y en caso de que tenga un número impar de elementos\n",
    "    # habrá a lo mucho 1 elemento de diferencia entre ambas\n",
    "    size=np.size(secuencia)\n",
    "    unos=np.count_nonzero(secuencia)\n",
    "    ceros=size-unos\n",
    "\n",
    "    # Depende de si tenemos un número par o impar de elementos\n",
    "    # en la cadena, tambien compruebo que no tengamos cero 1s o cero 0s\n",
    "    # para evitar problemas en los siguientes postulados\n",
    "    if (size%2==0 and ceros!=unos) or ceros==0 or unos==0:\n",
    "        return False\n",
    "    elif ceros!=unos-1 and ceros!=unos+1:\n",
    "        return False\n",
    "\n",
    "    ##############################################\n",
    "    \n",
    "    # Segundo postulado: teniendo en cuenta que es una secuencia\n",
    "    # cíclica el número de secuencias de 0s y 1s debe ser igual, \n",
    "    # además el número de secuencias de un tamaño debe de ser la mitad\n",
    "    # cuando incrementamos la longitud de la secuencia en 1 elemento\n",
    "\n",
    "    # Antes de ver si se cumple el segundo postulado, al tratarse de \n",
    "    # de secuencias cíclicas trasladamos la secuencia hasta que el primer\n",
    "    # y último elemento sean distintos\n",
    "    while secuencia[0]==secuencia[-1]:\n",
    "        secuencia=np.roll(secuencia,1)\n",
    "\n",
    "\n",
    "    # Implementación eficiente para encontrar y contar secuencias \n",
    "    # sacada de \n",
    "    # https://stackoverflow.com/questions/58221268/count-number-of-repeated-elements-in-a-row-in-a-numpy-array\n",
    "\n",
    "    # En primer lugar lo que hace en esta implementación es para cada elemento ver si es igual\n",
    "    # a su siguiente, obteniendo un array con [ True, ..., ¿n!=n+1?, ..., True], con esto pretendemos\n",
    "    # tener los indices en los que cambian los elementos\n",
    "    lista = np.r_[True,secuencia[:-1]!=secuencia[1:],True]\n",
    "\n",
    "    # Aqui se calcula el número de elementos de cada secuencia, mediante la \n",
    "    # diferencia de la lista de los elementos que son True(elementos que son distintos de su siguiente)\n",
    "    numElementos = np.diff(np.flatnonzero(lista))\n",
    "\n",
    "    # Obtenemos a que elemento corresponde cada secuencia, tomando\n",
    "    # los elementos de la secuencia para los que la lista calculada\n",
    "    # es True\n",
    "    elemento = secuencia[lista[:-1]]\n",
    "\n",
    "    # Contamos rachas \n",
    "\n",
    "    # Array en el para la columna i tenemos las rachas de \n",
    "    # tamaño i+1 tanto para 0 y 1 en los indices 0 y 1\n",
    "    rachas=np.zeros((2,np.max(numElementos)),dtype=np.int64)\n",
    "\n",
    "    # Rellenamos el array a partir de la secuencia\n",
    "    for i in np.arange(np.size(numElementos)):\n",
    "        rachas[elemento[i]][numElementos[i]-1]+=1\n",
    "\n",
    "    # Ahora comprobamos que se cumple el segundo postulado\n",
    "    # a partir de lo calculado\n",
    "    \n",
    "    suma=rachas[:][0]+rachas[:][1]\n",
    "    \n",
    "    # No puede haber más de 2 tamaños de rachas con solo\n",
    "    # 1 racha, en cuyo caso no se cumple el postulado\n",
    "    if np.size(suma[np.where(suma==1)])>2:\n",
    "        return False\n",
    "\n",
    "    # No puede haber mas rachas de tamaño n que de n-1, \n",
    "    # La suma de los elementos de la diferencia del vector suma\n",
    "    # que son mayores que 0 debe ser 0\n",
    "    if np.sum(np.diff(suma)>0)!=0:\n",
    "        return False\n",
    "\n",
    "    # Compruebo que haya el mismo número de cadenas longitud n\n",
    "    # para 0s y 1s (cuando no hay 1 sola cadena), que se cumpla\n",
    "    # la mitad de cadenas etc\n",
    "    for i in np.arange(np.size(suma)):\n",
    "        if i==0:\n",
    "            if suma[i]!=1 and rachas[0][0]!=rachas[1][0]:\n",
    "                return False\n",
    "        else:\n",
    "            if suma[i]!=1 and ( rachas[0][0]!=rachas[1][0] or suma[i]!=suma[i-1]/2):\n",
    "                return False\n",
    "            if suma[i]==1 and suma[i]!=suma[i-1]/2 and i!=np.size(suma)-1:\n",
    "                return False\n",
    "\n",
    "    ##############################################\n",
    "\n",
    "    # Tercer postulado: Se cumple si para todos los desplazamientos\n",
    "    # de la secuencia el número de elementos con respecto a la secuencia\n",
    "    # original se mantiene constante\n",
    "\n",
    "    secuenciaDesp=np.roll(secuencia,1)\n",
    "    desp=np.sum(secuenciaDesp!=secuencia)\n",
    "    while(not np.array_equal(np.roll(secuenciaDesp,1), secuencia)):\n",
    "        secuenciaDesp=np.roll(secuenciaDesp,1)\n",
    "        if desp!=np.sum(secuenciaDesp!=secuencia):\n",
    "            return False\n",
    "        desp=np.sum(secuenciaDesp!=secuencia)\n",
    "\n",
    "    # Si se cumplen los 3 postulados devolvemos true\n",
    "    return True\n",
    "\n"
   ]
  },
  {
   "cell_type": "code",
   "execution_count": 7,
   "id": "f76ab0bd",
   "metadata": {},
   "outputs": [
    {
     "name": "stdout",
     "output_type": "stream",
     "text": [
      "[[2 1 1 0]\n",
      " [2 1 0 1]]\n"
     ]
    },
    {
     "data": {
      "text/plain": [
       "True"
      ]
     },
     "execution_count": 7,
     "metadata": {},
     "output_type": "execute_result"
    }
   ],
   "source": [
    "postuladosGolomb(np.array([0, 0, 0, 1, 0, 0, 1, 1, 0, 1, 0, 1, 1, 1, 1]))"
   ]
  },
  {
   "cell_type": "code",
   "execution_count": 8,
   "id": "0f588fbc",
   "metadata": {},
   "outputs": [
    {
     "name": "stdout",
     "output_type": "stream",
     "text": [
      "[[4 2 1 1 0]\n",
      " [4 2 1 0 1]]\n"
     ]
    },
    {
     "data": {
      "text/plain": [
       "True"
      ]
     },
     "execution_count": 8,
     "metadata": {},
     "output_type": "execute_result"
    }
   ],
   "source": [
    "postuladosGolomb(np.array([0,0,0,0,1,0,0,1,0,1,1,0,0,1,1,1,1,1,0,0,0,1,1,0,1,1,1,0,1,0,1]))"
   ]
  },
  {
   "cell_type": "code",
   "execution_count": 9,
   "id": "34f54ce1",
   "metadata": {},
   "outputs": [
    {
     "name": "stdout",
     "output_type": "stream",
     "text": [
      "[[1 1 1]\n",
      " [2 0 1]]\n"
     ]
    },
    {
     "data": {
      "text/plain": [
       "False"
      ]
     },
     "execution_count": 9,
     "metadata": {},
     "output_type": "execute_result"
    }
   ],
   "source": [
    "postuladosGolomb(np.array([0,0,1,0,0,0,1,1,1,0,1]))"
   ]
  },
  {
   "cell_type": "code",
   "execution_count": 10,
   "id": "66b37b0a",
   "metadata": {},
   "outputs": [
    {
     "data": {
      "text/plain": [
       "False"
      ]
     },
     "execution_count": 10,
     "metadata": {},
     "output_type": "execute_result"
    }
   ],
   "source": [
    "postuladosGolomb(np.array([0,0,0,0,0,1,0,0,0,1,1,0,1]))"
   ]
  },
  {
   "cell_type": "code",
   "execution_count": 11,
   "id": "2585ab09",
   "metadata": {},
   "outputs": [],
   "source": [
    "# Función auxiliar para contar los bits de un \n",
    "# entero\n",
    "def sumaBitsEntero(n):\n",
    "    suma=0\n",
    "    while(n):\n",
    "        suma+=n&1\n",
    "        n=n>>1\n",
    "    return suma%2\n",
    "\n",
    "\n",
    "\"\"\"\n",
    "    Implementar LFSR.\n",
    "    La funcion recibe los coeficientes del polinomio de\n",
    "    conexión, la semilla o estado inicial del LFSR y la \n",
    "    longitud de la secuencia de salida.\n",
    "\n",
    "    ##### FORMATO DE LA ENTRADA #####\n",
    "        nSalida : Entero\n",
    "        coeficientes : String de bits tal que \"1001\"\n",
    "            de mayor a menor exponente, en este caso x4 + x2 + 1\n",
    "            no tengo en cuenta el término independiente\n",
    "        semilla : String de bits \"0110\"\n",
    "\"\"\"\n",
    "def lfsr(nSalida, coeficientes, semilla):\n",
    "\n",
    "    # Al tener un tamaño de salida requerido, nos da \n",
    "    # igual la periodicidad de la salida, además el número\n",
    "    # de stages o L va a ser el número de elementos de la\n",
    "    # semilla\n",
    "    lenght=len(semilla) # Guardo el tamaño de la semilla para tener\n",
    "            # constancia de los 0's a la izquierda\n",
    "    actual=int(semilla,2)\n",
    "    coeficientes=int(coeficientes,2)\n",
    "    salida=np.empty(nSalida)\n",
    "\n",
    "    # Para el tamaño de la salida realizamos lo siguiente\n",
    "    for i in np.arange(nSalida):\n",
    "        # Añadimos a la salida el último elemento del \n",
    "        # estado actual( si el valor actual no es par, acaba en 1\n",
    "        # , en otro caso 0)\n",
    "        salida[i]=int(actual%2!=0)\n",
    "\n",
    "        # Antes de hacer el shift, calculamos el \n",
    "        # último valor\n",
    "        calculo=coeficientes & actual\n",
    "\n",
    "        # Hacemos un shift de 1 bit\n",
    "        actual=actual>>1\n",
    "\n",
    "        # Añadimos un 0 o un 1 segundo corresponda a partir del \n",
    "        # polinomio de conexión, para ello hago un AND entre el polinomio\n",
    "        # de conexión y el estado actual.\n",
    "        actual=(sumaBitsEntero(calculo)<<lenght-1) | actual\n",
    "\n",
    "    return salida\n",
    "\n"
   ]
  },
  {
   "cell_type": "code",
   "execution_count": 12,
   "id": "c9bdef26",
   "metadata": {},
   "outputs": [
    {
     "data": {
      "text/plain": [
       "array([1., 1., 0., 1., 1., 0., 1., 1., 0., 1.])"
      ]
     },
     "execution_count": 12,
     "metadata": {},
     "output_type": "execute_result"
    }
   ],
   "source": [
    "lfsr(10,\"11\",\"11\")"
   ]
  },
  {
   "cell_type": "markdown",
   "id": "c9d083c2",
   "metadata": {},
   "source": [
    "# Vaya manía con usar matrices de numpy ... y encima la salida no son ni enteros"
   ]
  },
  {
   "cell_type": "code",
   "execution_count": 13,
   "id": "61e50ba0",
   "metadata": {},
   "outputs": [],
   "source": [
    "def nlfsr(semilla, k):\n",
    "\n",
    "    lenght=len(semilla)\n",
    "    actual=int(semilla,2)\n",
    "    salida=np.empty(k)\n",
    "\n",
    "    for i in np.arange(k):\n",
    "        salida[i]=int(actual%2!=0)\n",
    "        x, y, z, t=actual & (1<<3), actual & (1<<2), actual & (1<<1), actual & 1 \n",
    "        calculo=((x & y) | (1 ^ z)) ^ t\n",
    "        actual=actual>>1\n",
    "        \n",
    "        # Función no lineal\n",
    "        actual=(sumaBitsEntero(calculo)<<lenght-1) | actual\n",
    "\n",
    "    return salida\n"
   ]
  },
  {
   "cell_type": "markdown",
   "id": "f60e4e8f",
   "metadata": {},
   "source": [
    "# No admite el polinomio o el circuito como parámetro?"
   ]
  },
  {
   "cell_type": "code",
   "execution_count": 15,
   "id": "9cf78dd9",
   "metadata": {},
   "outputs": [
    {
     "name": "stdout",
     "output_type": "stream",
     "text": [
      "El periodo para la función planteada es 15\n"
     ]
    }
   ],
   "source": [
    "            semilla=\"1011\"\n",
    "           \n",
    "            resultado=nlfsr(semilla, 500)\n",
    "\n",
    "            resultado=\"\".join(map(str, resultado.astype(int)))\n",
    "            n=len(resultado)\n",
    "            periods = [i for i in range(2,n//2+1) if resultado[:i]*(n//i)==resultado[:n - n % i]]\n",
    "\n",
    "            if np.size(periods)==0:\n",
    "                print(\"El periodo para la función planteada es\", n)\n",
    "            else:\n",
    "                print(\"El periodo para la función planteada es\", periods[0])"
   ]
  },
  {
   "cell_type": "code",
   "execution_count": 16,
   "id": "a50ea3a6",
   "metadata": {},
   "outputs": [
    {
     "data": {
      "text/plain": [
       "'11011001010000111011001010000111011001010000111011001010000111011001010000111011001010000111011001010000111011001010000111011001010000111011001010000111011001010000111011001010000111011001010000111011001010000111011001010000111011001010000111011001010000111011001010000111011001010000111011001010000111011001010000111011001010000111011001010000111011001010000111011001010000111011001010000111011001010000111011001010000111011001010000111011001010000111011001010000111011001010000111011001010000111011'"
      ]
     },
     "execution_count": 16,
     "metadata": {},
     "output_type": "execute_result"
    }
   ],
   "source": [
    "resultado"
   ]
  },
  {
   "cell_type": "markdown",
   "id": "a90a0eb1",
   "metadata": {},
   "source": [
    "# La salida no es esa"
   ]
  },
  {
   "cell_type": "code",
   "execution_count": 17,
   "id": "3afac06b",
   "metadata": {},
   "outputs": [],
   "source": [
    "def geffe(lfsr1, lfsr2, lfsr3, salida):\n",
    "\n",
    "    # Transformo las salidas de los lfsr para poder operar\n",
    "    # con ellas con la operaciones de bits inherentes al \n",
    "    # tipo int, paso de un array de numpy a un entero\n",
    "\n",
    "    x1=int(\"\".join(map(str, lfsr1.astype(int)))[::-1],2)\n",
    "    x2=int(\"\".join(map(str, lfsr2.astype(int)))[::-1],2)\n",
    "    x3=int(\"\".join(map(str, lfsr3.astype(int)))[::-1],2)\n",
    "\n",
    "    # Combinamos las salidas de los LFSR's mediante\n",
    "    # la función no lineal de la definicion y las funciones de\n",
    "    # bits que tiene el tipo int\n",
    "\n",
    "    # Al usar valores de L que son primos entre ellos \n",
    "    # tenemos que el periodo del resultado será de \n",
    "    # (2^L1-1)(2^L2-1)(2^L3-1)\n",
    "    \n",
    "    resultado=\"\"\n",
    "    for i in np.arange(salida):\n",
    "\n",
    "        # Me quedo con el bit menos significativo\n",
    "        x1i, x2i, x3i= x1 & 1, x2 & 1, x3 & 1\n",
    "        \n",
    "        # Desplazo a la derecha\n",
    "        x1, x2, x3=x1>>1, x2>>1, x3>>1\n",
    "        \n",
    "        # Opero con el bit guardado\n",
    "        nextValor=(x1i & x2i) ^ ((1 ^ x2i) & x3i)\n",
    "        \n",
    "        # Añado el resultado\n",
    "        resultado=resultado+str(nextValor)\n",
    "\n",
    "    # Devuelvo el string con la cadena\n",
    "    return resultado\n"
   ]
  },
  {
   "cell_type": "code",
   "execution_count": 18,
   "id": "b510d1b3",
   "metadata": {},
   "outputs": [
    {
     "name": "stdout",
     "output_type": "stream",
     "text": [
      "El generador de Geffe con 3 lfsr, con L's 2, 3 y 5, y sus correspondientes polinomios primitivos obtiene:\n",
      "Tiene periodo 651 es decir del tamaño del vector y por tanto periodo máximo\n",
      "Cifro el valor 32 obteniendo 42\n",
      "Y descifro 42 obteniendo 32\n"
     ]
    }
   ],
   "source": [
    "            # Generador de Geffe\n",
    "            print(\"\"\"El generador de Geffe con 3 lfsr, con L's 2, 3 y 5, y sus correspondientes polinomios primitivos obtiene:\"\"\")\n",
    "\n",
    "            # Tomamos 3 valores de L que sean primos relativos entre\n",
    "            # ellos, tomo como valores 3, 4, 5 y estos serán los grados\n",
    "            # de los polinomios primitivos de los 3 LFSR, los listo\n",
    "            # a continuación (no se representa el termino independiente)\n",
    "            # además de las semillas de tamaño L y aleatorias\n",
    "            p1, p2, p3= \"11\",\"101\", \"10010\"\n",
    "\n",
    "            # Semillas distintas\n",
    "            s1, s2, s3= \"10\",\"100\", \"01100\"\n",
    "\n",
    "            # Guardamos el L para cada LFSR\n",
    "            l1, l2, l3=len(p1), len(p2), len(p3)\n",
    "\n",
    "            # Periodo máximo al hacerlo con valores de L\n",
    "            # que son primos relativos\n",
    "            periodo=((2**l1)-1)*((2**l2)-1)*((2**l3)-1)\n",
    "\n",
    "            # Calculamos los 3 LFSR de periodo máximo\n",
    "            lfsr1=lfsr(periodo, p1, s1)\n",
    "            lfsr2=lfsr(periodo, p2, s2)\n",
    "            lfsr3=lfsr(periodo, p3, s3)\n",
    "\n",
    "            # Calculamos \"periodo\" elementos con geffe, y debemos obtener \n",
    "            # que el periodo es igual al número de la variable \"periodo\"\n",
    "            cadenaGeffe=geffe(lfsr1, lfsr2, lfsr3, periodo)\n",
    "\n",
    "            # Calculo del periodo\n",
    "            # https://stackoverflow.com/questions/63181869/how-do-i-measure-the-periodicity-or-frequency-of-a-list-of-values\n",
    "            \n",
    "            n=len(cadenaGeffe)\n",
    "            periods = [i for i in range(2,n//2+1) if cadenaGeffe[:i]*(n//i)==cadenaGeffe[:n - n % i]]\n",
    "\n",
    "            if np.size(periods)==0:\n",
    "                print(\"Tiene periodo\", n, \"es decir del tamaño del vector y por tanto periodo máximo\")\n",
    "            else:\n",
    "                print(\"Tiene periodo minimo de\", periods[0])\n",
    "\n",
    "            # Cifro un m arbitrario(un número, un mensaje etc)\n",
    "            m=32\n",
    "\n",
    "            # Construyo una llave del mismo tamaño que m\n",
    "            k=geffe(lfsr1, lfsr2, lfsr3, len(bin(m)[2:]))\n",
    "\n",
    "            # Cifro m\n",
    "            mCifrada=int(k,2) ^ m\n",
    "\n",
    "            print(\"Cifro el valor\",m,\"obteniendo\",mCifrada)\n",
    "\n",
    "            # Descifro m\n",
    "            mDescifrada=int(k,2) ^ mCifrada\n",
    "            print(\"Y descifro\",mCifrada,\"obteniendo\",mDescifrada)\n"
   ]
  },
  {
   "cell_type": "code",
   "execution_count": 19,
   "id": "70b30cc2",
   "metadata": {},
   "outputs": [
    {
     "data": {
      "text/plain": [
       "651"
      ]
     },
     "execution_count": 19,
     "metadata": {},
     "output_type": "execute_result"
    }
   ],
   "source": [
    "3*7*31"
   ]
  },
  {
   "cell_type": "code",
   "execution_count": 20,
   "id": "0ce7b0f2",
   "metadata": {},
   "outputs": [
    {
     "data": {
      "text/plain": [
       "'001010000011110111001101011010011110111011111011000011011111001101010011011111111001011010001011110011011101010000011110111001101011010011110111011111011000011011111001101010011011111111001011010001011110011011101010000011110111001101011010011110111011111011000011011111001101010011011111111001011010001011110011011101010000011110111001101011010011110111011111011000011011111001101010011011111111001011010001011110011011101010000011110111001101011010011110111011111011000011011111001101010011011111111001011010001011110011011101010000011110111001101011010011110111011111011000011011111001101010011011111111001011010001011110011011101010000011110111001'"
      ]
     },
     "execution_count": 20,
     "metadata": {},
     "output_type": "execute_result"
    }
   ],
   "source": [
    "cadenaGeffe"
   ]
  },
  {
   "cell_type": "markdown",
   "id": "7e532999",
   "metadata": {},
   "source": [
    "# No implementas una función de cifrado y descifrado"
   ]
  },
  {
   "cell_type": "code",
   "execution_count": 71,
   "id": "f4875749",
   "metadata": {},
   "outputs": [],
   "source": [
    "def berlekampMassey(cadena):\n",
    "    # Tamaño de la cadena\n",
    "    n=np.size(cadena)\n",
    "\n",
    "    # Inicialización\n",
    "    polinomio, b, T = 1, 1, -1\n",
    "    L, m, N, d = 0, -1, 0, -1\n",
    "\n",
    "    while N<n:\n",
    "\n",
    "        # Siguiente discrepancia\n",
    "        cadenaInt=int(\"\".join(map(str, cadena[-L:].astype(int))),2)\n",
    "        d=sumaBitsEntero(cadena[N]+sumaBitsEntero(cadenaInt & polinomio))\n",
    "\n",
    "        # Si la discrepancia es 1 hacemos lo siguiente\n",
    "        if d==1:\n",
    "            T=polinomio\n",
    "            polinomio=polinomio + (b * (1<<(N-m)))\n",
    "\n",
    "            if L<=N//2:\n",
    "                L=N+1-L\n",
    "                m=N\n",
    "                b=T\n",
    "        N+=1\n",
    "    \n",
    "    return L\n"
   ]
  },
  {
   "cell_type": "code",
   "execution_count": 72,
   "id": "e3be5764",
   "metadata": {},
   "outputs": [],
   "source": [
    "cg = []+[int(a) for a in cadenaGeffe]"
   ]
  },
  {
   "cell_type": "code",
   "execution_count": 73,
   "id": "c4ef61ad",
   "metadata": {},
   "outputs": [
    {
     "data": {
      "text/plain": [
       "326"
      ]
     },
     "execution_count": 73,
     "metadata": {},
     "output_type": "execute_result"
    }
   ],
   "source": [
    "berlekampMassey(np.array(cg))"
   ]
  },
  {
   "cell_type": "code",
   "execution_count": 74,
   "id": "366a1943",
   "metadata": {},
   "outputs": [],
   "source": [
    "prueba=lfsr(10,\"11\",\"11\")"
   ]
  },
  {
   "cell_type": "code",
   "execution_count": 75,
   "id": "95d5df32",
   "metadata": {},
   "outputs": [],
   "source": [
    "pnp = np.array([int(a) for a in prueba])"
   ]
  },
  {
   "cell_type": "code",
   "execution_count": 76,
   "id": "b2c9b666",
   "metadata": {},
   "outputs": [
    {
     "data": {
      "text/plain": [
       "array([1, 1, 0, 1, 1, 0, 1, 1, 0, 1])"
      ]
     },
     "execution_count": 76,
     "metadata": {},
     "output_type": "execute_result"
    }
   ],
   "source": [
    "pnp"
   ]
  },
  {
   "cell_type": "code",
   "execution_count": 77,
   "id": "865ef937",
   "metadata": {},
   "outputs": [
    {
     "data": {
      "text/plain": [
       "5"
      ]
     },
     "execution_count": 77,
     "metadata": {},
     "output_type": "execute_result"
    }
   ],
   "source": [
    "berlekampMassey(pnp)"
   ]
  },
  {
   "cell_type": "markdown",
   "id": "375d0980",
   "metadata": {},
   "source": [
    "# Berlekamp-Massey parece no funcionar"
   ]
  },
  {
   "cell_type": "code",
   "execution_count": 78,
   "id": "1cf66bd0",
   "metadata": {},
   "outputs": [],
   "source": [
    "prueba=lfsr(100,\"10111\",\"11111\")"
   ]
  },
  {
   "cell_type": "code",
   "execution_count": 79,
   "id": "49a039db",
   "metadata": {},
   "outputs": [
    {
     "data": {
      "text/plain": [
       "array([1., 1., 1., 1., 1., 0., 1., 0., 0., 0., 1., 0., 0., 1., 0., 1., 0.,\n",
       "       1., 1., 0., 0., 0., 0., 1., 1., 1., 0., 0., 1., 1., 0., 1., 1., 1.,\n",
       "       1., 1., 0., 1., 0., 0., 0., 1., 0., 0., 1., 0., 1., 0., 1., 1., 0.,\n",
       "       0., 0., 0., 1., 1., 1., 0., 0., 1., 1., 0., 1., 1., 1., 1., 1., 0.,\n",
       "       1., 0., 0., 0., 1., 0., 0., 1., 0., 1., 0., 1., 1., 0., 0., 0., 0.,\n",
       "       1., 1., 1., 0., 0., 1., 1., 0., 1., 1., 1., 1., 1., 0., 1.])"
      ]
     },
     "execution_count": 79,
     "metadata": {},
     "output_type": "execute_result"
    }
   ],
   "source": [
    "prueba"
   ]
  },
  {
   "cell_type": "code",
   "execution_count": 80,
   "id": "58805450",
   "metadata": {},
   "outputs": [],
   "source": [
    "pnp = np.array([int(a) for a in prueba])"
   ]
  },
  {
   "cell_type": "code",
   "execution_count": 81,
   "id": "97d03d61",
   "metadata": {},
   "outputs": [
    {
     "data": {
      "text/plain": [
       "array([1, 1, 1, 1, 1, 0, 1, 0, 0, 0, 1, 0, 0, 1, 0, 1, 0, 1, 1, 0, 0, 0,\n",
       "       0, 1, 1, 1, 0, 0, 1, 1, 0, 1, 1, 1, 1, 1, 0, 1, 0, 0, 0, 1, 0, 0,\n",
       "       1, 0, 1, 0, 1, 1, 0, 0, 0, 0, 1, 1, 1, 0, 0, 1, 1, 0, 1, 1, 1, 1,\n",
       "       1, 0, 1, 0, 0, 0, 1, 0, 0, 1, 0, 1, 0, 1, 1, 0, 0, 0, 0, 1, 1, 1,\n",
       "       0, 0, 1, 1, 0, 1, 1, 1, 1, 1, 0, 1])"
      ]
     },
     "execution_count": 81,
     "metadata": {},
     "output_type": "execute_result"
    }
   ],
   "source": [
    "pnp"
   ]
  },
  {
   "cell_type": "code",
   "execution_count": 82,
   "id": "d01bf8a9",
   "metadata": {},
   "outputs": [
    {
     "data": {
      "text/plain": [
       "50"
      ]
     },
     "execution_count": 82,
     "metadata": {},
     "output_type": "execute_result"
    }
   ],
   "source": [
    "berlekampMassey(pnp)"
   ]
  },
  {
   "cell_type": "code",
   "execution_count": 83,
   "id": "4c5d5b4a",
   "metadata": {},
   "outputs": [
    {
     "data": {
      "text/plain": [
       "array([1, 1, 1, 1, 1, 0, 1, 0, 0, 0, 1, 0, 0, 1, 0, 1, 0, 1, 1, 0, 0, 0,\n",
       "       0, 1, 1, 1, 0, 0, 1, 1, 0, 1, 1, 1, 1, 1, 0, 1, 0, 0, 0, 1, 0, 0,\n",
       "       1, 0, 1, 0, 1, 1, 0, 0, 0, 0, 1, 1, 1, 0, 0, 1, 1, 0, 1, 1, 1, 1,\n",
       "       1, 0, 1, 0, 0, 0, 1, 0, 0, 1, 0, 1, 0, 1, 1, 0, 0, 0, 0, 1, 1, 1,\n",
       "       0, 0, 1, 1, 0, 1, 1, 1, 1, 1, 0, 1])"
      ]
     },
     "execution_count": 83,
     "metadata": {},
     "output_type": "execute_result"
    }
   ],
   "source": [
    "pnp"
   ]
  }
 ],
 "metadata": {
  "kernelspec": {
   "display_name": "Python 3",
   "language": "python",
   "name": "python3"
  },
  "language_info": {
   "codemirror_mode": {
    "name": "ipython",
    "version": 3
   },
   "file_extension": ".py",
   "mimetype": "text/x-python",
   "name": "python",
   "nbconvert_exporter": "python",
   "pygments_lexer": "ipython3",
   "version": "3.6.9"
  }
 },
 "nbformat": 4,
 "nbformat_minor": 5
}
